{
 "cells": [
  {
   "cell_type": "code",
   "execution_count": 17,
   "metadata": {},
   "outputs": [
    {
     "name": "stdout",
     "output_type": "stream",
     "text": [
      "[17, 20, 26, 31, 44, 54, 55, 77, 93]\n"
     ]
    }
   ],
   "source": [
    "def quickSort(alist):\n",
    "   quickSortHelper(alist,0,len(alist)-1)\n",
    "\n",
    "def quickSortHelper(alist,first,last):\n",
    "   '''    base case as the merge sort. If the length of the list is less than or equal to one, \n",
    "     #it is already sorted. If it is greater, then it can be partitioned and recursively sorted. '''\n",
    "   if first<last:\n",
    "\n",
    "       splitpoint = partition(alist,first,last)\n",
    "\n",
    "       quickSortHelper(alist,first,splitpoint-1)\n",
    "       quickSortHelper(alist,splitpoint+1,last)\n",
    "\n",
    "\n",
    "def partition(alist,first,last):\n",
    "   '''returns splitpoint '''\n",
    "   pivotvalue = alist[first]\n",
    "\n",
    "   leftmark = first+1\n",
    "   rightmark = last\n",
    "\n",
    "   done = False\n",
    "   while not done:\n",
    "    \n",
    "       # advance Lm whilst Lm <= Rm and list[Lm] <= pv\n",
    "       while leftmark <= rightmark and alist[leftmark] <= pivotvalue:\n",
    "           leftmark = leftmark + 1\n",
    "\n",
    "       # withdraw rightmark when Rm >= Lm and list[Rm] >= pv\n",
    "       while alist[rightmark] >= pivotvalue and rightmark >= leftmark:\n",
    "           rightmark = rightmark -1\n",
    "       \n",
    "      \n",
    "       if rightmark < leftmark:\n",
    "           done = True\n",
    "      # swap alist[Lm] / aList[Rm] if  Lm > Rm (both indeces)\n",
    "       else:\n",
    "           temp = alist[leftmark]\n",
    "           alist[leftmark] = alist[rightmark]\n",
    "           alist[rightmark] = temp\n",
    "        \n",
    "   #splitpoint FOUND\n",
    "   #swap alist[first]- alist[Rm]\n",
    "   temp = alist[first]\n",
    "   alist[first] = alist[rightmark]\n",
    "   alist[rightmark] = temp\n",
    "\n",
    "\n",
    "   return rightmark\n",
    "\n",
    "alist = [54,26,93,17,77,31,44,55,20]\n",
    "quickSort(alist)\n",
    "print(alist)"
   ]
  },
  {
   "cell_type": "markdown",
   "metadata": {},
   "source": [
    "http://interactivepython.org/runestone/static/pythonds/SortSearch/TheQuickSort.html\n"
   ]
  },
  {
   "cell_type": "code",
   "execution_count": 16,
   "metadata": {},
   "outputs": [
    {
     "name": "stdout",
     "output_type": "stream",
     "text": [
      "[3, 4, 3, 6, 77, 44, 3, 2, 0, 9, 8, 33, 5, 3, 77, 5645, 3, 22, 1, 3, 7, 5, 8, 65, 85, 203, 220, 102, 85, 35, 1]\n",
      "[0, 1, 1, 2, 3, 3, 3, 3, 3, 3, 4, 5, 5, 6, 7, 8, 8, 9, 22, 33, 35, 44, 65, 77, 77, 85, 85, 102, 203, 220, 5645]\n"
     ]
    }
   ],
   "source": [
    "blist=([3,4,3,6,77,44,3,2,0,9,8,33,5,3,77,5645,3,22,1,3,7,5,8,65,85,203,220,102,85,35,1])\n",
    "print(blist)\n",
    "quickSort(blist)\n",
    "print(blist)"
   ]
  }
 ],
 "metadata": {
  "kernelspec": {
   "display_name": "Python 3",
   "language": "python",
   "name": "python3"
  },
  "language_info": {
   "codemirror_mode": {
    "name": "ipython",
    "version": 3
   },
   "file_extension": ".py",
   "mimetype": "text/x-python",
   "name": "python",
   "nbconvert_exporter": "python",
   "pygments_lexer": "ipython3",
   "version": "3.6.4"
  }
 },
 "nbformat": 4,
 "nbformat_minor": 2
}
