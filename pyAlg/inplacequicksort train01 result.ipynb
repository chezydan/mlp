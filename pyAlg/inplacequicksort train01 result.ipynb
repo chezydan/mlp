{
 "cells": [
  {
   "cell_type": "code",
   "execution_count": 2,
   "metadata": {},
   "outputs": [],
   "source": [
    "def inplace_quick_sort(S, a=0, b=None):\n",
    "    if b==None:\n",
    "        b= len(S)-1\n",
    "                    \n",
    "    if a >= b: \n",
    "        return   #This is used for the same reason as break in loops. The return value doesn't matter and you only want to exit the whole function  \n",
    "    pivot = S[b]      #last element of range is pivot\n",
    "    left =a             # will scan rightward\n",
    "    right = b-1            #will scan leftward\n",
    "    \n",
    "    \n",
    "    while left <= right:  # while L......R or [L=R]\n",
    "        # scan until reaching value equal or larger than pivot (or right marker)\n",
    "        while left <= right and S[left] >= pivot    :\n",
    "            left += 1\n",
    "        # scan until reaching value equal or smaller than pivot (or left marker)\n",
    "        while left <= right and pivot < S[right]:\n",
    "            right -= 1\n",
    "            \n",
    "        if left <= right: # scans did not strictly cross\n",
    "            S[left], S[right] = S[right], S[left]    # swap values between S[left] and S[right]\n",
    "            left, right = left + 1, right - 1        # shrink range\n",
    "\n",
    "# put pivot into its final place (currently marked by left index)\n",
    "    S[left], S[b] = S[b], S[left]\n",
    "\n",
    "# make recursive calls\n",
    "    inplace_quick_sort(S, a, left - 1)\n",
    "    inplace_quick_sort(S, left + 1, b)"
   ]
  },
  {
   "cell_type": "code",
   "execution_count": 3,
   "metadata": {},
   "outputs": [],
   "source": [
    "def show_list(S):\n",
    "    print(\"previous list:\\n {}\".format(S))\n",
    "    print(\"\\n\")\n",
    "    inplace_quick_sort(S)\n",
    "    print(\"sorted list: \\n {}\".format(S))"
   ]
  },
  {
   "cell_type": "code",
   "execution_count": 4,
   "metadata": {},
   "outputs": [
    {
     "name": "stdout",
     "output_type": "stream",
     "text": [
      "previous list:\n",
      " [3, 5, 4, 565, 4, 33, 44, 54, 3, 2, 55, 45, 35, 2, 5, 1]\n",
      "\n",
      "\n",
      "sorted list: \n",
      " [3, 33, 565, 44, 54, 5, 2, 2, 5, 4, 35, 45, 55, 3, 4, 1]\n"
     ]
    }
   ],
   "source": [
    "alist=[3,5,4,565,4,33,44,54,3,2,55,45,35,2,5,1]\n",
    "show_list(alist)"
   ]
  },
  {
   "cell_type": "code",
   "execution_count": 65,
   "metadata": {},
   "outputs": [
    {
     "name": "stdout",
     "output_type": "stream",
     "text": [
      "previous list:\n",
      " [3, 4, 3, 6, 77, 44, 3, 2, 0, 9, 8, 33, 5, 3, 77, 5645, 3, 22, 1, 3, 7, 5, 8, 65, 85, 203, 220, 102, 85, 35, 1]\n",
      "\n",
      "\n",
      "sorted list: \n",
      " [0, 1, 1, 2, 3, 3, 3, 3, 3, 3, 4, 5, 5, 6, 7, 8, 8, 9, 22, 33, 35, 44, 65, 77, 77, 85, 85, 102, 203, 220, 5645]\n"
     ]
    }
   ],
   "source": [
    "blist=([3,4,3,6,77,44,3,2,0,9,8,33,5,3,77,5645,3,22,1,3,7,5,8,65,85,203,220,102,85,35,1])\n",
    "show_list(blist)"
   ]
  }
 ],
 "metadata": {
  "kernelspec": {
   "display_name": "Python 3",
   "language": "python",
   "name": "python3"
  },
  "language_info": {
   "codemirror_mode": {
    "name": "ipython",
    "version": 3
   },
   "file_extension": ".py",
   "mimetype": "text/x-python",
   "name": "python",
   "nbconvert_exporter": "python",
   "pygments_lexer": "ipython3",
   "version": "3.6.4"
  }
 },
 "nbformat": 4,
 "nbformat_minor": 2
}
